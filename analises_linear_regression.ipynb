{
 "cells": [
  {
   "cell_type": "markdown",
   "id": "d0e9ad99",
   "metadata": {},
   "source": [
    "# Descrição do problema\n",
    "\n",
    "Uma empresa que vende roupas em um e-commerce, e que também presta serviços de consultoria, deseja saber o que é preciso fazer para aumentar o valor gasto pelos clientes em sua loja. A empresa forneceu um conjunto de dados para tentarmos extrair essas informações"
   ]
  },
  {
   "cell_type": "code",
   "execution_count": null,
   "id": "7964bbde",
   "metadata": {},
   "outputs": [],
   "source": [
    "#importando dependências\n",
    "import pand"
   ]
  }
 ],
 "metadata": {
  "kernelspec": {
   "display_name": "Python 3 (ipykernel)",
   "language": "python",
   "name": "python3"
  },
  "language_info": {
   "codemirror_mode": {
    "name": "ipython",
    "version": 3
   },
   "file_extension": ".py",
   "mimetype": "text/x-python",
   "name": "python",
   "nbconvert_exporter": "python",
   "pygments_lexer": "ipython3",
   "version": "3.9.6"
  }
 },
 "nbformat": 4,
 "nbformat_minor": 5
}
